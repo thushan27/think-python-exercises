{
 "cells": [
  {
   "cell_type": "code",
   "execution_count": null,
   "metadata": {},
   "outputs": [],
   "source": [
    "'''program reads the current time and converts it to a time of day in hours, minutes and days since 1 January 1970,\n",
    "by using the time module and time.time() which returns number of seconds since 1 January 1970'''\n",
    "\n",
    "def returntime():\n",
    "    import time\n",
    "    seconds = 86400\n",
    "    daysSinceEpoch = time.time()/seconds\n",
    "    today = daysSinceEpoch - int(daysSinceEpoch)\n",
    "    todayInSeconds = today*seconds\n",
    "    todayInHours = todayInSeconds/3600\n",
    "    print(str(int(todayInHours)) + ' hours ' + \n",
    "    (str(int((todayInHours - int(todayInHours))*60)) + ' minutes ') + \n",
    "    'and ' + str(int(daysSinceEpoch))+' days since epoch')"
   ]
  },
  {
   "cell_type": "code",
   "execution_count": null,
   "metadata": {},
   "outputs": [],
   "source": [
    "returntime()"
   ]
  },
  {
   "cell_type": "code",
   "execution_count": null,
   "metadata": {},
   "outputs": [],
   "source": [
    "# program takes four parameters—a, b, c and n and checks to see if Fermat’s theorem: a^n + b^n = c^n holds\n",
    "\n",
    "def check_fermat(a,b,c,n):\n",
    "    if n>=2 and a^n + b^n == c^n:\n",
    "        print(\"Holy smokes, Fermat was wrong!\")\n",
    "    else:\n",
    "        print(\"No, that doesn't work\")"
   ]
  },
  {
   "cell_type": "code",
   "execution_count": 32,
   "metadata": {},
   "outputs": [
    {
     "name": "stdout",
     "output_type": "stream",
     "text": [
      "No, that doesn't work\n"
     ]
    }
   ],
   "source": [
    "check_fermat(193,1294,193,21380)"
   ]
  },
  {
   "cell_type": "code",
   "execution_count": null,
   "metadata": {},
   "outputs": [],
   "source": [
    "'''program takes three integers as arguments, and prints either “Yes” or “No”,depending on whether you can or \n",
    "cannot form a triangle from sticks with the given lengths. If any of the three lengths is greater than the sum of \n",
    "the other two, then you cannot form a triangle. Otherwise, you can. (If the sum of two lengths equals the third, they\n",
    "form what is called a “degenerate” triangle.)'''\n",
    "\n",
    "def is_triangle(a,b,c):\n",
    "    if a>b+c or b>a+c or c > a+b:\n",
    "        print(\"No, you cannot form a triangle\")\n",
    "    else: \n",
    "        print(\"Yes, you can form a triangle\")"
   ]
  },
  {
   "cell_type": "code",
   "execution_count": 14,
   "metadata": {},
   "outputs": [
    {
     "name": "stdout",
     "output_type": "stream",
     "text": [
      "Yes, you can form a triangle\n"
     ]
    }
   ],
   "source": [
    "is_triangle(1,2,3)"
   ]
  },
  {
   "cell_type": "code",
   "execution_count": null,
   "metadata": {},
   "outputs": [],
   "source": [
    "'''What is the output of the following program? Function will print s when n = 0. If n>0, function will\n",
    "reduce n by 1 until n = 0 and add the current n to s. If n < 0, this program will not work'''\n",
    "\n",
    "def recurse(n, s):\n",
    "    if n == 0:\n",
    "        print(s)\n",
    "    else:\n",
    "        recurse(n-1, n+s)"
   ]
  },
  {
   "cell_type": "code",
   "execution_count": 39,
   "metadata": {},
   "outputs": [
    {
     "name": "stdout",
     "output_type": "stream",
     "text": [
      "6\n"
     ]
    }
   ],
   "source": [
    "recurse(3,0)"
   ]
  },
  {
   "cell_type": "code",
   "execution_count": null,
   "metadata": {},
   "outputs": [],
   "source": []
  }
 ],
 "metadata": {
  "kernelspec": {
   "display_name": "Python 3",
   "language": "python",
   "name": "python3"
  },
  "language_info": {
   "codemirror_mode": {
    "name": "ipython",
    "version": 3
   },
   "file_extension": ".py",
   "mimetype": "text/x-python",
   "name": "python",
   "nbconvert_exporter": "python",
   "pygments_lexer": "ipython3",
   "version": "3.7.3"
  }
 },
 "nbformat": 4,
 "nbformat_minor": 2
}
