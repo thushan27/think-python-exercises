{
 "cells": [
  {
   "cell_type": "code",
   "execution_count": null,
   "metadata": {},
   "outputs": [],
   "source": [
    "\"\"\"\n",
    "Design a program that can play blackjack with yourself.\n",
    "\n",
    "Variations: i) Where red cards are subtracted from your score and black cards are added to your score. \n",
    "ii) So that the computer has a better chance of winning.\n",
    "\n",
    "Rules of this simplified blackjack:\n",
    "\n",
    "Compare the sums of the cards between Dealer vs Player\n",
    "If Player card sum is greater than 21 = BUST (Player loses)\n",
    "If Player card sum is less than 21 = Option Hit (draw a 3rd card) or Stay (keep your current 2 cards)\n",
    "If Player option Stay compare sum of Dealer vs Player\n",
    "If Player sum < 21 && > Dealer sum then Player wins!\n",
    "If Player sum < Dealer sum then Player loses\n",
    "\"\"\"\n",
    "def blackJack():\n",
    "        # use random package to generate random numbers between 1 and 11, where Ace is represented by 1 or 11, cards\n",
    "        # 2-10 are valued between 2-10 and Jack, Queen, King are represented by a score of 10.\n",
    "        \n",
    "        import random\n",
    "        \n",
    "        # dealing the cards out for the dealer\n",
    "        \n",
    "        dealer_cards = []\n",
    "        while len(dealer_cards) != 2:\n",
    "            dealer_cards.append(random.randint(1,11))\n",
    "        if len(dealer_cards) == 2:\n",
    "            print(\"Dealer has X & \" + str(dealer_cards[1]))\n",
    "        \n",
    "        # dealing the cards out for the player\n",
    "        \n",
    "        player_cards = []\n",
    "        while len(player_cards) != 2:\n",
    "            player_cards.append(random.randint(1,11))\n",
    "        if len(player_cards) == 2:\n",
    "            print(\"Player has \" + str(player_cards))\n",
    "            \n",
    "        # outcomes if dealer has a score of 21 or above\n",
    "        \n",
    "        if sum(dealer_cards) == 21:\n",
    "            print(\"Dealer has blackjack and wins\")\n",
    "        elif sum(dealer_cards) > 21:\n",
    "            print(\"Dealer has busted\")\n",
    "        # outcomes if player has a score of 21 or above\n",
    "        \n",
    "        if sum(player_cards) == 21:\n",
    "            print(\"Player has blackjack and wins\")\n",
    "        elif sum(player_cards) > 21:\n",
    "            print(\"Player has busted\")\n",
    "       \n",
    "        # outcomes while players score is less than 21    \n",
    "        \n",
    "        while sum(player_cards) < 21:\n",
    "            action_taken = input(\"Do you want to stay or hit? \")\n",
    "            if action_taken == \"hit\":\n",
    "                player_cards.append(random.randint(1,11))\n",
    "                print(\"You now have a score of \" + str(sum(player_cards)) + \" from \" + str(player_cards))\n",
    "                print(\"The dealer has a score of \" + str(sum(dealer_cards)) + \" from \" + str(dealer_cards))\n",
    "            else:\n",
    "                print(\"The dealer has a score of \" + str(sum(dealer_cards)) + \" from \" + str(dealer_cards))\n",
    "                print(\"You now have a score of \" + str(sum(player_cards)) + \" from \" + str(player_cards))\n",
    "        # Summing player and dealers hand to see who wins\n",
    "            if sum(dealer_cards)>sum(player_cards):\n",
    "                print(\"Dealer wins\")\n",
    "            else:\n",
    "                print(\"Player wins\")\n",
    "            break\n",
    "        blackJack()"
   ]
  },
  {
   "cell_type": "code",
   "execution_count": null,
   "metadata": {},
   "outputs": [
    {
     "name": "stdout",
     "output_type": "stream",
     "text": [
      "Dealer has X & 9\n",
      "Player has [2, 10]\n",
      "Do you want to stay or hit? hit\n",
      "You now have a score of 17 from [2, 10, 5]\n",
      "The dealer has a score of 20 from [11, 9]\n",
      "Dealer wins\n",
      "Dealer has X & 3\n",
      "Player has [4, 2]\n",
      "Do you want to stay or hit? hit\n",
      "You now have a score of 17 from [4, 2, 11]\n",
      "The dealer has a score of 4 from [1, 3]\n",
      "Player wins\n",
      "Dealer has X & 7\n",
      "Player has [3, 10]\n"
     ]
    }
   ],
   "source": [
    "blackJack()"
   ]
  },
  {
   "cell_type": "code",
   "execution_count": null,
   "metadata": {},
   "outputs": [],
   "source": []
  }
 ],
 "metadata": {
  "kernelspec": {
   "display_name": "Python 3",
   "language": "python",
   "name": "python3"
  },
  "language_info": {
   "codemirror_mode": {
    "name": "ipython",
    "version": 3
   },
   "file_extension": ".py",
   "mimetype": "text/x-python",
   "name": "python",
   "nbconvert_exporter": "python",
   "pygments_lexer": "ipython3",
   "version": "3.7.3"
  }
 },
 "nbformat": 4,
 "nbformat_minor": 2
}
