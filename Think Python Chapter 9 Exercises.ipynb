{
 "cells": [
  {
   "cell_type": "code",
   "execution_count": 7,
   "metadata": {},
   "outputs": [
    {
     "name": "stdout",
     "output_type": "stream",
     "text": [
      "3\n"
     ]
    }
   ],
   "source": [
    "\"\"\"\n",
    "A program that reads words.txt and prints only the words with more than 20 characters (not counting whitespace).\n",
    "\"\"\"\n",
    "fin = open('words.txt')\n",
    "count = 0\n",
    "for line in fin:\n",
    "    word = line.strip()\n",
    "    if len(word) > 20:\n",
    "        count = count + 1\n",
    "print(count)"
   ]
  },
  {
   "cell_type": "code",
   "execution_count": 8,
   "metadata": {},
   "outputs": [],
   "source": [
    "\"\"\"\n",
    "A function  that returns True if the given word doesn’t have the letter “e” in it\n",
    "\"\"\"\n",
    "def has_no_e(word):\n",
    "    if word.count('e') == 0:\n",
    "        return True\n",
    "    else:\n",
    "        return False"
   ]
  },
  {
   "cell_type": "code",
   "execution_count": 91,
   "metadata": {},
   "outputs": [
    {
     "data": {
      "text/plain": [
       "True"
      ]
     },
     "execution_count": 91,
     "metadata": {},
     "output_type": "execute_result"
    }
   ],
   "source": [
    "has_no_e('banana')"
   ]
  },
  {
   "cell_type": "code",
   "execution_count": 22,
   "metadata": {},
   "outputs": [],
   "source": [
    "\"\"\"\n",
    "Programme counts the number of words that have no “e” in the words list and computes % of words with no \"e\".\n",
    "\"\"\"\n",
    "def wordsWithNoEPercentage():\n",
    "    fin = open('words.txt')\n",
    "    count = 0\n",
    "    totalWords = 0\n",
    "    for line in fin:\n",
    "        word = line.strip()\n",
    "        totalWords = totalWords + 1\n",
    "        if has_no_e(word) == True:\n",
    "            count = count + 1\n",
    "    print(count/totalWords * 100)"
   ]
  },
  {
   "cell_type": "code",
   "execution_count": 23,
   "metadata": {},
   "outputs": [
    {
     "name": "stdout",
     "output_type": "stream",
     "text": [
      "33.07383423103621\n"
     ]
    }
   ],
   "source": [
    "wordsWithNoEPercentage()"
   ]
  },
  {
   "cell_type": "code",
   "execution_count": 196,
   "metadata": {},
   "outputs": [],
   "source": [
    "\"\"\"\n",
    "Programme takes a word and a string of 5 letters, and returns True if word uses all of the letters\n",
    "\"\"\"\n",
    "def contain(word, a, b, c, d, e):\n",
    "    if word.count(a) > 0 and word.count(b) > 0 and word.count(c) > 0 and word.count(d) > 0 and word.count(e) > 0:\n",
    "        return True\n",
    "    else:\n",
    "        return False"
   ]
  },
  {
   "cell_type": "code",
   "execution_count": 198,
   "metadata": {},
   "outputs": [
    {
     "data": {
      "text/plain": [
       "True"
      ]
     },
     "execution_count": 198,
     "metadata": {},
     "output_type": "execute_result"
    }
   ],
   "source": [
    "contain('tuple', 't','u','p', 'l','e')"
   ]
  },
  {
   "cell_type": "code",
   "execution_count": 20,
   "metadata": {},
   "outputs": [],
   "source": [
    "\"\"\"\n",
    "Solution by Allen Downy - programme takes a word and string of letters and returns True if no letters are in the word.\n",
    "\"\"\"\n",
    "def avoids(word, forbidden):\n",
    "    for letter in word:\n",
    "        if letter in forbidden:\n",
    "             return False\n",
    "    return True"
   ]
  },
  {
   "cell_type": "code",
   "execution_count": 21,
   "metadata": {},
   "outputs": [],
   "source": [
    "\"\"\"\n",
    "Solution by Allen Downy - programme takes a word and string of letters, and returns True if all letters are in word.\n",
    "\"\"\"\n",
    "def uses_all(word, required):\n",
    "    for letter in required:\n",
    "        if letter not in word:\n",
    "            return False\n",
    "    return True"
   ]
  },
  {
   "cell_type": "code",
   "execution_count": 1,
   "metadata": {},
   "outputs": [],
   "source": [
    "\"\"\"\n",
    "Programme takes a text file of words and a string of letters, and prints words using all letters at least once.\n",
    "\"\"\"\n",
    "def usesAllInWords(required):\n",
    "    fin = open('words.txt')\n",
    "    for line in fin:\n",
    "        word = line.strip()\n",
    "        if uses_all(word, required) == True:\n",
    "            print(word)"
   ]
  },
  {
   "cell_type": "code",
   "execution_count": null,
   "metadata": {},
   "outputs": [],
   "source": []
  }
 ],
 "metadata": {
  "kernelspec": {
   "display_name": "Python 3",
   "language": "python",
   "name": "python3"
  },
  "language_info": {
   "codemirror_mode": {
    "name": "ipython",
    "version": 3
   },
   "file_extension": ".py",
   "mimetype": "text/x-python",
   "name": "python",
   "nbconvert_exporter": "python",
   "pygments_lexer": "ipython3",
   "version": "3.7.3"
  }
 },
 "nbformat": 4,
 "nbformat_minor": 2
}
