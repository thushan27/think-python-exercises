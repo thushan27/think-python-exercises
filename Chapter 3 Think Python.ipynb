{
 "cells": [
  {
   "cell_type": "code",
   "execution_count": 2,
   "metadata": {},
   "outputs": [],
   "source": [
    "# program takes a string parameter and prints the string so that the last letter of the string is in column 70 of display\n",
    "def right_justify(s):\n",
    "    spaces = len(' '*70)-len('s')\n",
    "    print( ' '*spaces + s)"
   ]
  },
  {
   "cell_type": "code",
   "execution_count": 3,
   "metadata": {},
   "outputs": [
    {
     "name": "stdout",
     "output_type": "stream",
     "text": [
      "                                                                     hello\n"
     ]
    }
   ],
   "source": [
    "right_justify('hello')"
   ]
  },
  {
   "cell_type": "code",
   "execution_count": 9,
   "metadata": {},
   "outputs": [],
   "source": [
    "# a function that takes a function object as an argument and calls it twice\n",
    "def do_twice(f, val):\n",
    "    f(val)\n",
    "    f(val)"
   ]
  },
  {
   "cell_type": "code",
   "execution_count": 10,
   "metadata": {},
   "outputs": [
    {
     "name": "stdout",
     "output_type": "stream",
     "text": [
      "hello\n",
      "hello\n"
     ]
    }
   ],
   "source": [
    "do_twice(print, 'hello')"
   ]
  },
  {
   "cell_type": "code",
   "execution_count": 13,
   "metadata": {},
   "outputs": [],
   "source": [
    "# function takes a function object and a value and calls the function four times, passing the value as a parameter\n",
    "# with only 2 statements in the body \n",
    "def do_four(f, val):\n",
    "    do_twice(f,val)\n",
    "    do_twice(f,val)"
   ]
  },
  {
   "cell_type": "code",
   "execution_count": 14,
   "metadata": {},
   "outputs": [
    {
     "name": "stdout",
     "output_type": "stream",
     "text": [
      "spam\n",
      "spam\n",
      "spam\n",
      "spam\n"
     ]
    }
   ],
   "source": [
    "do_four(print,'spam')"
   ]
  },
  {
   "cell_type": "code",
   "execution_count": 15,
   "metadata": {},
   "outputs": [],
   "source": [
    "# function draws a grid\n",
    "def grid():\n",
    "    print('+'+' '+'-'+' '+'-'+' '+'-'+' '+'-'+' '+'+'+' '+'-'+' '+'-'+' '+'-'+' '+'-'+' '+'+')\n",
    "    print('|'+'         '+'|'+'         '+'|')\n",
    "    print('|'+'         '+'|'+'         '+'|')\n",
    "    print('|'+'         '+'|'+'         '+'|')\n",
    "    print('+'+' '+'-'+' '+'-'+' '+'-'+' '+'-'+' '+'+'+' '+'-'+' '+'-'+' '+'-'+' '+'-'+' '+'+')\n",
    "    print('|'+'         '+'|'+'         '+'|')\n",
    "    print('|'+'         '+'|'+'         '+'|')\n",
    "    print('|'+'         '+'|'+'         '+'|')\n",
    "    print('|'+'         '+'|'+'         '+'|')\n",
    "    print('+'+' '+'-'+' '+'-'+' '+'-'+' '+'-'+' '+'+'+' '+'-'+' '+'-'+' '+'-'+' '+'-'+' '+'+')"
   ]
  },
  {
   "cell_type": "code",
   "execution_count": 16,
   "metadata": {},
   "outputs": [
    {
     "name": "stdout",
     "output_type": "stream",
     "text": [
      "+ - - - - + - - - - +\n",
      "|         |         |\n",
      "|         |         |\n",
      "|         |         |\n",
      "+ - - - - + - - - - +\n",
      "|         |         |\n",
      "|         |         |\n",
      "|         |         |\n",
      "|         |         |\n",
      "+ - - - - + - - - - +\n"
     ]
    }
   ],
   "source": [
    "grid()"
   ]
  },
  {
   "cell_type": "code",
   "execution_count": null,
   "metadata": {},
   "outputs": [],
   "source": []
  }
 ],
 "metadata": {
  "kernelspec": {
   "display_name": "Python 3",
   "language": "python",
   "name": "python3"
  },
  "language_info": {
   "codemirror_mode": {
    "name": "ipython",
    "version": 3
   },
   "file_extension": ".py",
   "mimetype": "text/x-python",
   "name": "python",
   "nbconvert_exporter": "python",
   "pygments_lexer": "ipython3",
   "version": "3.7.3"
  }
 },
 "nbformat": 4,
 "nbformat_minor": 2
}
