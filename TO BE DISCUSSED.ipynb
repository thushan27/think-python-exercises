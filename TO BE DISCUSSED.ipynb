{
 "cells": [
  {
   "cell_type": "code",
   "execution_count": 10,
   "metadata": {},
   "outputs": [],
   "source": [
    "\"\"\"\n",
    "solution provided in dropbox \n",
    "\"\"\"\n",
    "\n",
    "def VegasGame(guess):\n",
    "    import random\n",
    "    number = random.randint(1,9)\n",
    "    random.seed(1)\n",
    "    count = 0\n",
    "    if guess == number:\n",
    "        print(\"correct\")\n",
    "        print(count)\n",
    "    elif guess < number:\n",
    "        print(\"too low\")\n",
    "        count = count + 1\n",
    "    elif guess > number:\n",
    "        print(\"too high\")\n",
    "        count = count + 1"
   ]
  },
  {
   "cell_type": "code",
   "execution_count": 5,
   "metadata": {},
   "outputs": [],
   "source": [
    "import math\n",
    "def estimate_pi():\n",
    "    sum = 0\n",
    "    k = 0\n",
    "    while ((2*math.sqrt(2))/9801)*((math.factorial(4*k)*(1103 + 26390*k))/(math.factorial(k)**4)*(396**(4*k))) >= 10**-15:\n",
    "        sum = sum + ((2*math.sqrt(2))/9801)*((math.factorial(4*k)*(1103 + 26390*k))/(math.factorial(k)**4)*(396**(4*k)))\n",
    "        k = k + 1\n",
    "    print(sum)"
   ]
  },
  {
   "cell_type": "code",
   "execution_count": 12,
   "metadata": {},
   "outputs": [
    {
     "data": {
      "text/plain": [
       "'/Users/thushan'"
      ]
     },
     "execution_count": 12,
     "metadata": {},
     "output_type": "execute_result"
    }
   ],
   "source": [
    "pwd"
   ]
  },
  {
   "cell_type": "code",
   "execution_count": null,
   "metadata": {},
   "outputs": [],
   "source": []
  }
 ],
 "metadata": {
  "kernelspec": {
   "display_name": "Python 3",
   "language": "python",
   "name": "python3"
  },
  "language_info": {
   "codemirror_mode": {
    "name": "ipython",
    "version": 3
   },
   "file_extension": ".py",
   "mimetype": "text/x-python",
   "name": "python",
   "nbconvert_exporter": "python",
   "pygments_lexer": "ipython3",
   "version": "3.7.3"
  }
 },
 "nbformat": 4,
 "nbformat_minor": 2
}
